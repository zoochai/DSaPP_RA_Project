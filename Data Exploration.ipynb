{
 "cells": [
  {
   "cell_type": "code",
   "execution_count": 112,
   "metadata": {
    "collapsed": false
   },
   "outputs": [],
   "source": [
    "from pprint import pprint\n",
    "import pandas as pd\n",
    "import numpy as np\n",
    "import matplotlib\n",
    "import matplotlib.pyplot as plt\n",
    "import seaborn as sns\n",
    "import re\n",
    "import datetime\n",
    "from __future__ import division\n",
    "import random\n",
    "\n",
    "from sklearn.metrics import mean_squared_error,r2_score\n",
    "from sklearn.ensemble import GradientBoostingRegressor\n",
    "\n",
    "sns.set(style=\"whitegrid\")\n",
    "%matplotlib inline\n",
    "\n",
    "pd.set_option('display.max_columns', None)"
   ]
  },
  {
   "cell_type": "markdown",
   "metadata": {},
   "source": [
    "# Exploratory analysis"
   ]
  },
  {
   "cell_type": "code",
   "execution_count": 2,
   "metadata": {
    "collapsed": true
   },
   "outputs": [],
   "source": [
    "df1 = pd.read_csv(\"donations.csv\")\n",
    "df2 = pd.read_csv(\"essays.csv\")\n",
    "df3 = pd.read_csv(\"projects.csv\")\n",
    "df4 = pd.read_csv(\"outcomes.csv\")\n",
    "df5 = pd.read_csv(\"resources.csv\")"
   ]
  },
  {
   "cell_type": "markdown",
   "metadata": {},
   "source": [
    "## Data Summary"
   ]
  },
  {
   "cell_type": "code",
   "execution_count": 25,
   "metadata": {
    "collapsed": false
   },
   "outputs": [
    {
     "name": "stdout",
     "output_type": "stream",
     "text": [
      "664098 Projects are posted.\n",
      "619326 Projects are traced.\n",
      "525042 Projects are funded.\n",
      "430683 Projects are fully funded.\n",
      "\n",
      "By 1282092 donors.\n",
      "Among them, 358918 are teachers.\n"
     ]
    }
   ],
   "source": [
    "project_num = len(df3['projectid'].unique())\n",
    "project_w_outcome = len(df4['projectid'].unique())\n",
    "project_funded = len(df1['projectid'].unique())\n",
    "project_fully_funded = len(df4[df4.fully_funded == 't']['projectid'].unique())\n",
    "\n",
    "teacher_num = df1['is_teacher_acct']. value_counts()\n",
    "\n",
    "print project_num, \"Projects are posted.\" \n",
    "print project_w_outcome, \"Projects are traced.\"\n",
    "print project_funded, \"Projects are funded.\"\n",
    "print project_fully_funded, \"Projects are fully funded.\\n\"\n",
    "\n",
    "print \"By\", len(df1['donor_acctid'].unique()), \"donors.\"\n",
    "print \"Among them, 358918 are teachers.\"\n",
    "\n",
    "#print \"Essays\", len(df2['projectid'].unique())\n",
    "#print \"Resources\", len(df5['projectid'].unique())"
   ]
  },
  {
   "cell_type": "markdown",
   "metadata": {},
   "source": [
    "## Features candidates"
   ]
  },
  {
   "cell_type": "code",
   "execution_count": 9,
   "metadata": {
    "collapsed": false
   },
   "outputs": [],
   "source": [
    "df1_head = pd.DataFrame({'DONATIONS' : df1.columns})\n",
    "df2_head = pd.DataFrame({'ESSAYS' : df2.columns})\n",
    "df3_head = pd.DataFrame({'PROJECTS' : df3.columns})\n",
    "df4_head = pd.DataFrame({'OUTCOMES' : df4.columns})\n",
    "df5_head = pd.DataFrame({'RESOURCES' : df5.columns})"
   ]
  },
  {
   "cell_type": "code",
   "execution_count": 26,
   "metadata": {
    "collapsed": false
   },
   "outputs": [],
   "source": [
    "headers = pd.concat([df1_head, df2_head, df3_head, df4_head, df5_head], ignore_index=True, axis=1)\n",
    "headers.columns =['DONATIONS', 'ESSAYS', 'PROJECTS','OUTCOMES','RESOURCES']\n",
    "attr_num = headers.count().sum()-len(headers.columns)"
   ]
  },
  {
   "cell_type": "code",
   "execution_count": 27,
   "metadata": {
    "collapsed": false
   },
   "outputs": [
    {
     "name": "stdout",
     "output_type": "stream",
     "text": [
      "There are 79 attributes.\n"
     ]
    }
   ],
   "source": [
    "print \"There are\", attr_num, \"attributes.\""
   ]
  },
  {
   "cell_type": "code",
   "execution_count": 28,
   "metadata": {
    "collapsed": false
   },
   "outputs": [
    {
     "data": {
      "text/html": [
       "<div>\n",
       "<table border=\"1\" class=\"dataframe\">\n",
       "  <thead>\n",
       "    <tr style=\"text-align: right;\">\n",
       "      <th></th>\n",
       "      <th>DONATIONS</th>\n",
       "      <th>ESSAYS</th>\n",
       "      <th>PROJECTS</th>\n",
       "      <th>OUTCOMES</th>\n",
       "      <th>RESOURCES</th>\n",
       "    </tr>\n",
       "  </thead>\n",
       "  <tbody>\n",
       "    <tr>\n",
       "      <th>0</th>\n",
       "      <td>donationid</td>\n",
       "      <td>projectid</td>\n",
       "      <td>projectid</td>\n",
       "      <td>projectid</td>\n",
       "      <td>resourceid</td>\n",
       "    </tr>\n",
       "    <tr>\n",
       "      <th>1</th>\n",
       "      <td>projectid</td>\n",
       "      <td>teacher_acctid</td>\n",
       "      <td>teacher_acctid</td>\n",
       "      <td>is_exciting</td>\n",
       "      <td>projectid</td>\n",
       "    </tr>\n",
       "    <tr>\n",
       "      <th>2</th>\n",
       "      <td>donor_acctid</td>\n",
       "      <td>title</td>\n",
       "      <td>schoolid</td>\n",
       "      <td>at_least_1_teacher_referred_donor</td>\n",
       "      <td>vendorid</td>\n",
       "    </tr>\n",
       "    <tr>\n",
       "      <th>3</th>\n",
       "      <td>donor_city</td>\n",
       "      <td>short_description</td>\n",
       "      <td>school_ncesid</td>\n",
       "      <td>fully_funded</td>\n",
       "      <td>vendor_name</td>\n",
       "    </tr>\n",
       "    <tr>\n",
       "      <th>4</th>\n",
       "      <td>donor_state</td>\n",
       "      <td>need_statement</td>\n",
       "      <td>school_latitude</td>\n",
       "      <td>at_least_1_green_donation</td>\n",
       "      <td>project_resource_type</td>\n",
       "    </tr>\n",
       "    <tr>\n",
       "      <th>5</th>\n",
       "      <td>donor_zip</td>\n",
       "      <td>essay</td>\n",
       "      <td>school_longitude</td>\n",
       "      <td>great_chat</td>\n",
       "      <td>item_name</td>\n",
       "    </tr>\n",
       "    <tr>\n",
       "      <th>6</th>\n",
       "      <td>is_teacher_acct</td>\n",
       "      <td>NaN</td>\n",
       "      <td>school_city</td>\n",
       "      <td>three_or_more_non_teacher_referred_donors</td>\n",
       "      <td>item_number</td>\n",
       "    </tr>\n",
       "    <tr>\n",
       "      <th>7</th>\n",
       "      <td>donation_timestamp</td>\n",
       "      <td>NaN</td>\n",
       "      <td>school_state</td>\n",
       "      <td>one_non_teacher_referred_donor_giving_100_plus</td>\n",
       "      <td>item_unit_price</td>\n",
       "    </tr>\n",
       "    <tr>\n",
       "      <th>8</th>\n",
       "      <td>donation_to_project</td>\n",
       "      <td>NaN</td>\n",
       "      <td>school_zip</td>\n",
       "      <td>donation_from_thoughtful_donor</td>\n",
       "      <td>item_quantity</td>\n",
       "    </tr>\n",
       "    <tr>\n",
       "      <th>9</th>\n",
       "      <td>donation_optional_support</td>\n",
       "      <td>NaN</td>\n",
       "      <td>school_metro</td>\n",
       "      <td>great_messages_proportion</td>\n",
       "      <td>NaN</td>\n",
       "    </tr>\n",
       "    <tr>\n",
       "      <th>10</th>\n",
       "      <td>donation_total</td>\n",
       "      <td>NaN</td>\n",
       "      <td>school_district</td>\n",
       "      <td>teacher_referred_count</td>\n",
       "      <td>NaN</td>\n",
       "    </tr>\n",
       "    <tr>\n",
       "      <th>11</th>\n",
       "      <td>dollar_amount</td>\n",
       "      <td>NaN</td>\n",
       "      <td>school_county</td>\n",
       "      <td>non_teacher_referred_count</td>\n",
       "      <td>NaN</td>\n",
       "    </tr>\n",
       "    <tr>\n",
       "      <th>12</th>\n",
       "      <td>donation_included_optional_support</td>\n",
       "      <td>NaN</td>\n",
       "      <td>school_charter</td>\n",
       "      <td>NaN</td>\n",
       "      <td>NaN</td>\n",
       "    </tr>\n",
       "    <tr>\n",
       "      <th>13</th>\n",
       "      <td>payment_method</td>\n",
       "      <td>NaN</td>\n",
       "      <td>school_magnet</td>\n",
       "      <td>NaN</td>\n",
       "      <td>NaN</td>\n",
       "    </tr>\n",
       "    <tr>\n",
       "      <th>14</th>\n",
       "      <td>payment_included_acct_credit</td>\n",
       "      <td>NaN</td>\n",
       "      <td>school_year_round</td>\n",
       "      <td>NaN</td>\n",
       "      <td>NaN</td>\n",
       "    </tr>\n",
       "    <tr>\n",
       "      <th>15</th>\n",
       "      <td>payment_included_campaign_gift_card</td>\n",
       "      <td>NaN</td>\n",
       "      <td>school_nlns</td>\n",
       "      <td>NaN</td>\n",
       "      <td>NaN</td>\n",
       "    </tr>\n",
       "    <tr>\n",
       "      <th>16</th>\n",
       "      <td>payment_included_web_purchased_gift_card</td>\n",
       "      <td>NaN</td>\n",
       "      <td>school_kipp</td>\n",
       "      <td>NaN</td>\n",
       "      <td>NaN</td>\n",
       "    </tr>\n",
       "    <tr>\n",
       "      <th>17</th>\n",
       "      <td>payment_was_promo_matched</td>\n",
       "      <td>NaN</td>\n",
       "      <td>school_charter_ready_promise</td>\n",
       "      <td>NaN</td>\n",
       "      <td>NaN</td>\n",
       "    </tr>\n",
       "    <tr>\n",
       "      <th>18</th>\n",
       "      <td>via_giving_page</td>\n",
       "      <td>NaN</td>\n",
       "      <td>teacher_prefix</td>\n",
       "      <td>NaN</td>\n",
       "      <td>NaN</td>\n",
       "    </tr>\n",
       "    <tr>\n",
       "      <th>19</th>\n",
       "      <td>for_honoree</td>\n",
       "      <td>NaN</td>\n",
       "      <td>teacher_teach_for_america</td>\n",
       "      <td>NaN</td>\n",
       "      <td>NaN</td>\n",
       "    </tr>\n",
       "    <tr>\n",
       "      <th>20</th>\n",
       "      <td>donation_message</td>\n",
       "      <td>NaN</td>\n",
       "      <td>teacher_ny_teaching_fellow</td>\n",
       "      <td>NaN</td>\n",
       "      <td>NaN</td>\n",
       "    </tr>\n",
       "    <tr>\n",
       "      <th>21</th>\n",
       "      <td>date</td>\n",
       "      <td>NaN</td>\n",
       "      <td>primary_focus_subject</td>\n",
       "      <td>NaN</td>\n",
       "      <td>NaN</td>\n",
       "    </tr>\n",
       "    <tr>\n",
       "      <th>22</th>\n",
       "      <td>NaN</td>\n",
       "      <td>NaN</td>\n",
       "      <td>primary_focus_area</td>\n",
       "      <td>NaN</td>\n",
       "      <td>NaN</td>\n",
       "    </tr>\n",
       "    <tr>\n",
       "      <th>23</th>\n",
       "      <td>NaN</td>\n",
       "      <td>NaN</td>\n",
       "      <td>secondary_focus_subject</td>\n",
       "      <td>NaN</td>\n",
       "      <td>NaN</td>\n",
       "    </tr>\n",
       "    <tr>\n",
       "      <th>24</th>\n",
       "      <td>NaN</td>\n",
       "      <td>NaN</td>\n",
       "      <td>secondary_focus_area</td>\n",
       "      <td>NaN</td>\n",
       "      <td>NaN</td>\n",
       "    </tr>\n",
       "    <tr>\n",
       "      <th>25</th>\n",
       "      <td>NaN</td>\n",
       "      <td>NaN</td>\n",
       "      <td>resource_type</td>\n",
       "      <td>NaN</td>\n",
       "      <td>NaN</td>\n",
       "    </tr>\n",
       "    <tr>\n",
       "      <th>26</th>\n",
       "      <td>NaN</td>\n",
       "      <td>NaN</td>\n",
       "      <td>poverty_level</td>\n",
       "      <td>NaN</td>\n",
       "      <td>NaN</td>\n",
       "    </tr>\n",
       "    <tr>\n",
       "      <th>27</th>\n",
       "      <td>NaN</td>\n",
       "      <td>NaN</td>\n",
       "      <td>grade_level</td>\n",
       "      <td>NaN</td>\n",
       "      <td>NaN</td>\n",
       "    </tr>\n",
       "    <tr>\n",
       "      <th>28</th>\n",
       "      <td>NaN</td>\n",
       "      <td>NaN</td>\n",
       "      <td>fulfillment_labor_materials</td>\n",
       "      <td>NaN</td>\n",
       "      <td>NaN</td>\n",
       "    </tr>\n",
       "    <tr>\n",
       "      <th>29</th>\n",
       "      <td>NaN</td>\n",
       "      <td>NaN</td>\n",
       "      <td>total_price_excluding_optional_support</td>\n",
       "      <td>NaN</td>\n",
       "      <td>NaN</td>\n",
       "    </tr>\n",
       "    <tr>\n",
       "      <th>30</th>\n",
       "      <td>NaN</td>\n",
       "      <td>NaN</td>\n",
       "      <td>total_price_including_optional_support</td>\n",
       "      <td>NaN</td>\n",
       "      <td>NaN</td>\n",
       "    </tr>\n",
       "    <tr>\n",
       "      <th>31</th>\n",
       "      <td>NaN</td>\n",
       "      <td>NaN</td>\n",
       "      <td>students_reached</td>\n",
       "      <td>NaN</td>\n",
       "      <td>NaN</td>\n",
       "    </tr>\n",
       "    <tr>\n",
       "      <th>32</th>\n",
       "      <td>NaN</td>\n",
       "      <td>NaN</td>\n",
       "      <td>eligible_double_your_impact_match</td>\n",
       "      <td>NaN</td>\n",
       "      <td>NaN</td>\n",
       "    </tr>\n",
       "    <tr>\n",
       "      <th>33</th>\n",
       "      <td>NaN</td>\n",
       "      <td>NaN</td>\n",
       "      <td>eligible_almost_home_match</td>\n",
       "      <td>NaN</td>\n",
       "      <td>NaN</td>\n",
       "    </tr>\n",
       "    <tr>\n",
       "      <th>34</th>\n",
       "      <td>NaN</td>\n",
       "      <td>NaN</td>\n",
       "      <td>date_posted</td>\n",
       "      <td>NaN</td>\n",
       "      <td>NaN</td>\n",
       "    </tr>\n",
       "  </tbody>\n",
       "</table>\n",
       "</div>"
      ],
      "text/plain": [
       "                                   DONATIONS             ESSAYS  \\\n",
       "0                                 donationid          projectid   \n",
       "1                                  projectid     teacher_acctid   \n",
       "2                               donor_acctid              title   \n",
       "3                                 donor_city  short_description   \n",
       "4                                donor_state     need_statement   \n",
       "5                                  donor_zip              essay   \n",
       "6                            is_teacher_acct                NaN   \n",
       "7                         donation_timestamp                NaN   \n",
       "8                        donation_to_project                NaN   \n",
       "9                  donation_optional_support                NaN   \n",
       "10                            donation_total                NaN   \n",
       "11                             dollar_amount                NaN   \n",
       "12        donation_included_optional_support                NaN   \n",
       "13                            payment_method                NaN   \n",
       "14              payment_included_acct_credit                NaN   \n",
       "15       payment_included_campaign_gift_card                NaN   \n",
       "16  payment_included_web_purchased_gift_card                NaN   \n",
       "17                 payment_was_promo_matched                NaN   \n",
       "18                           via_giving_page                NaN   \n",
       "19                               for_honoree                NaN   \n",
       "20                          donation_message                NaN   \n",
       "21                                      date                NaN   \n",
       "22                                       NaN                NaN   \n",
       "23                                       NaN                NaN   \n",
       "24                                       NaN                NaN   \n",
       "25                                       NaN                NaN   \n",
       "26                                       NaN                NaN   \n",
       "27                                       NaN                NaN   \n",
       "28                                       NaN                NaN   \n",
       "29                                       NaN                NaN   \n",
       "30                                       NaN                NaN   \n",
       "31                                       NaN                NaN   \n",
       "32                                       NaN                NaN   \n",
       "33                                       NaN                NaN   \n",
       "34                                       NaN                NaN   \n",
       "\n",
       "                                  PROJECTS  \\\n",
       "0                                projectid   \n",
       "1                           teacher_acctid   \n",
       "2                                 schoolid   \n",
       "3                            school_ncesid   \n",
       "4                          school_latitude   \n",
       "5                         school_longitude   \n",
       "6                              school_city   \n",
       "7                             school_state   \n",
       "8                               school_zip   \n",
       "9                             school_metro   \n",
       "10                         school_district   \n",
       "11                           school_county   \n",
       "12                          school_charter   \n",
       "13                           school_magnet   \n",
       "14                       school_year_round   \n",
       "15                             school_nlns   \n",
       "16                             school_kipp   \n",
       "17            school_charter_ready_promise   \n",
       "18                          teacher_prefix   \n",
       "19               teacher_teach_for_america   \n",
       "20              teacher_ny_teaching_fellow   \n",
       "21                   primary_focus_subject   \n",
       "22                      primary_focus_area   \n",
       "23                 secondary_focus_subject   \n",
       "24                    secondary_focus_area   \n",
       "25                           resource_type   \n",
       "26                           poverty_level   \n",
       "27                             grade_level   \n",
       "28             fulfillment_labor_materials   \n",
       "29  total_price_excluding_optional_support   \n",
       "30  total_price_including_optional_support   \n",
       "31                        students_reached   \n",
       "32       eligible_double_your_impact_match   \n",
       "33              eligible_almost_home_match   \n",
       "34                             date_posted   \n",
       "\n",
       "                                          OUTCOMES              RESOURCES  \n",
       "0                                        projectid             resourceid  \n",
       "1                                      is_exciting              projectid  \n",
       "2                at_least_1_teacher_referred_donor               vendorid  \n",
       "3                                     fully_funded            vendor_name  \n",
       "4                        at_least_1_green_donation  project_resource_type  \n",
       "5                                       great_chat              item_name  \n",
       "6        three_or_more_non_teacher_referred_donors            item_number  \n",
       "7   one_non_teacher_referred_donor_giving_100_plus        item_unit_price  \n",
       "8                   donation_from_thoughtful_donor          item_quantity  \n",
       "9                        great_messages_proportion                    NaN  \n",
       "10                          teacher_referred_count                    NaN  \n",
       "11                      non_teacher_referred_count                    NaN  \n",
       "12                                             NaN                    NaN  \n",
       "13                                             NaN                    NaN  \n",
       "14                                             NaN                    NaN  \n",
       "15                                             NaN                    NaN  \n",
       "16                                             NaN                    NaN  \n",
       "17                                             NaN                    NaN  \n",
       "18                                             NaN                    NaN  \n",
       "19                                             NaN                    NaN  \n",
       "20                                             NaN                    NaN  \n",
       "21                                             NaN                    NaN  \n",
       "22                                             NaN                    NaN  \n",
       "23                                             NaN                    NaN  \n",
       "24                                             NaN                    NaN  \n",
       "25                                             NaN                    NaN  \n",
       "26                                             NaN                    NaN  \n",
       "27                                             NaN                    NaN  \n",
       "28                                             NaN                    NaN  \n",
       "29                                             NaN                    NaN  \n",
       "30                                             NaN                    NaN  \n",
       "31                                             NaN                    NaN  \n",
       "32                                             NaN                    NaN  \n",
       "33                                             NaN                    NaN  \n",
       "34                                             NaN                    NaN  "
      ]
     },
     "execution_count": 28,
     "metadata": {},
     "output_type": "execute_result"
    }
   ],
   "source": [
    "headers"
   ]
  },
  {
   "cell_type": "markdown",
   "metadata": {},
   "source": [
    "## Distribution of data over time"
   ]
  },
  {
   "cell_type": "code",
   "execution_count": 29,
   "metadata": {
    "collapsed": false
   },
   "outputs": [],
   "source": [
    "df1['date'] = pd.to_datetime(df1['donation_timestamp'])\n",
    "df1['year'] = df1['date'].dt.year\n",
    "df1['month'] = df1['date'].dt.month\n",
    "donation_year= df1.groupby('year').size().reset_index(name=\"donation_count\")\n",
    "donation_month= df1.groupby('month').size().reset_index(name=\"donation_count\")"
   ]
  },
  {
   "cell_type": "code",
   "execution_count": 30,
   "metadata": {
    "collapsed": true
   },
   "outputs": [],
   "source": [
    "df3['date'] = pd.to_datetime(df3['date_posted'])\n",
    "df3['year'] = df3['date'].dt.year\n",
    "df3['month'] = df3['date'].dt.month\n",
    "project_year= df3.groupby('year').size().reset_index(name=\"project_count\")\n",
    "project_month= df3.groupby('month').size().reset_index(name=\"project_count\")"
   ]
  },
  {
   "cell_type": "code",
   "execution_count": 35,
   "metadata": {
    "collapsed": false
   },
   "outputs": [
    {
     "data": {
      "image/png": "[encoded data removed]",
      "text/plain": [
       "<matplotlib.figure.Figure at 0x176d941d0>"
      ]
     },
     "metadata": {},
     "output_type": "display_data"
    }
   ],
   "source": [
    "fig, (ax1, ax2) = plt.subplots(figsize=(12,5),ncols=2)\n",
    "plt.suptitle(\"Projects vs Donation over time\", y = 1.09, fontsize=20)\n",
    "ax1.tick_params(axis='both', labelsize=8)\n",
    "ax2.tick_params(axis='x', labelsize=6)\n",
    "ax2.tick_params(axis='y', labelsize=8)\n",
    "ax1.set_title('Project Posted')\n",
    "ax2.set_title('Project Funded')\n",
    "\n",
    "sns.barplot(x='year', y='project_count', data=project_year, palette=\"Blues_d\", ax=ax1)\n",
    "sns.barplot(x='year', y='donation_count', data=donation_year, palette=\"Blues_d\", ax=ax2)\n",
    "sns.despine()\n"
   ]
  },
  {
   "cell_type": "code",
   "execution_count": 37,
   "metadata": {
    "collapsed": false
   },
   "outputs": [],
   "source": [
    "posting_corr= project_year['year'].corr(project_year['project_count'])\n",
    "donation_corr= donation_year['year'].corr(donation_year['donation_count'])"
   ]
  },
  {
   "cell_type": "code",
   "execution_count": 39,
   "metadata": {
    "collapsed": false
   },
   "outputs": [
    {
     "name": "stdout",
     "output_type": "stream",
     "text": [
      "Project Posting by time has a 0.844306566674 correlation.\n",
      "Project funding by time has a 0.714382160928 correlation.\n"
     ]
    }
   ],
   "source": [
    "print \"Project Posting by time has a\", posting_corr, \"correlation.\"\n",
    "print \"Project funding by time has a\", donation_corr, \"correlation.\""
   ]
  },
  {
   "cell_type": "markdown",
   "metadata": {},
   "source": [
    "### Interesting fact 1 : what happended in 2010? \n",
    "#### Project funding incresed dramatically that year."
   ]
  },
  {
   "cell_type": "code",
   "execution_count": 42,
   "metadata": {
    "collapsed": false
   },
   "outputs": [
    {
     "data": {
      "image/png": "[encoded data removed]",
      "text/plain": [
       "<matplotlib.figure.Figure at 0x1163eefd0>"
      ]
     },
     "metadata": {},
     "output_type": "display_data"
    }
   ],
   "source": [
    "fig, (ax1, ax2) = plt.subplots(figsize=(12,5),ncols=2)\n",
    "plt.suptitle(\"Projects vs Donation by Month\", y = 1.09, fontsize=20)\n",
    "ax1.tick_params(axis='both', labelsize=8)\n",
    "ax2.tick_params(axis='x', labelsize=6)\n",
    "ax2.tick_params(axis='y', labelsize=8)\n",
    "ax1.set_title('Project posted')\n",
    "ax2.set_title('Project funded')\n",
    "\n",
    "sns.barplot(x='month', y='project_count', data=project_month, palette=\"Blues_d\", ax=ax1)\n",
    "sns.barplot(x='month', y='donation_count', data=donation_month, palette=\"Blues_d\", ax=ax2)\n",
    "sns.despine()"
   ]
  },
  {
   "cell_type": "markdown",
   "metadata": {
    "collapsed": true
   },
   "source": [
    "### Interesting fact 2 : \n",
    "#### 1) Projects are mostly posted in September when school starts.\n",
    "#### 2) December is a GIVING month."
   ]
  },
  {
   "cell_type": "code",
   "execution_count": 44,
   "metadata": {
    "collapsed": false
   },
   "outputs": [
    {
     "data": {
      "text/plain": [
       "month\n",
       "1     19001003.59\n",
       "2     16399155.67\n",
       "3     20647805.85\n",
       "4     16152077.72\n",
       "5     12393573.19\n",
       "6      8648733.72\n",
       "7      8612297.87\n",
       "8     15522616.09\n",
       "9     21187627.61\n",
       "10    35159244.48\n",
       "11    23372212.00\n",
       "12    40447867.73\n",
       "Name: donation_total, dtype: float64"
      ]
     },
     "execution_count": 44,
     "metadata": {},
     "output_type": "execute_result"
    }
   ],
   "source": [
    "df1.groupby('month')['donation_total'].sum()"
   ]
  },
  {
   "cell_type": "markdown",
   "metadata": {},
   "source": [
    "## Data Story"
   ]
  },
  {
   "cell_type": "markdown",
   "metadata": {},
   "source": [
    "### From Posting to Funding"
   ]
  },
  {
   "cell_type": "code",
   "execution_count": 55,
   "metadata": {
    "collapsed": true
   },
   "outputs": [],
   "source": [
    "merge1 = df1.merge(df3,on='projectid').merge(df4,on='projectid')"
   ]
  },
  {
   "cell_type": "code",
   "execution_count": 56,
   "metadata": {
    "collapsed": true
   },
   "outputs": [],
   "source": [
    "funded_time = merge1[['projectid','donation_timestamp','date_posted', 'fully_funded', 'is_exciting']].copy()"
   ]
  },
  {
   "cell_type": "code",
   "execution_count": 57,
   "metadata": {
    "collapsed": true
   },
   "outputs": [],
   "source": [
    "funded_time['to'] = pd.to_datetime(funded_time['donation_timestamp'])\n",
    "funded_time['fr'] = pd.to_datetime(funded_time['date_posted'])\n",
    "funded_time['diff']= funded_time['to']-funded_time['fr']\n",
    "funded_time['days'] = funded_time['diff'].dt.days"
   ]
  },
  {
   "cell_type": "code",
   "execution_count": 59,
   "metadata": {
    "collapsed": false
   },
   "outputs": [
    {
     "data": {
      "text/html": [
       "<div>\n",
       "<table border=\"1\" class=\"dataframe\">\n",
       "  <thead>\n",
       "    <tr style=\"text-align: right;\">\n",
       "      <th></th>\n",
       "      <th>projectid</th>\n",
       "      <th>donation_timestamp</th>\n",
       "      <th>date_posted</th>\n",
       "      <th>fully_funded</th>\n",
       "      <th>is_exciting</th>\n",
       "      <th>days</th>\n",
       "    </tr>\n",
       "  </thead>\n",
       "  <tbody>\n",
       "    <tr>\n",
       "      <th>0</th>\n",
       "      <td>ffffac55ee02a49d1abc87ba6fc61135</td>\n",
       "      <td>2011-08-25 14:27:34.807</td>\n",
       "      <td>2011-06-11</td>\n",
       "      <td>t</td>\n",
       "      <td>f</td>\n",
       "      <td>75</td>\n",
       "    </tr>\n",
       "    <tr>\n",
       "      <th>1</th>\n",
       "      <td>ffffac55ee02a49d1abc87ba6fc61135</td>\n",
       "      <td>2011-11-04 07:54:21.552</td>\n",
       "      <td>2011-06-11</td>\n",
       "      <td>t</td>\n",
       "      <td>f</td>\n",
       "      <td>146</td>\n",
       "    </tr>\n",
       "    <tr>\n",
       "      <th>2</th>\n",
       "      <td>ffffac55ee02a49d1abc87ba6fc61135</td>\n",
       "      <td>2011-11-02 22:53:53.019</td>\n",
       "      <td>2011-06-11</td>\n",
       "      <td>t</td>\n",
       "      <td>f</td>\n",
       "      <td>144</td>\n",
       "    </tr>\n",
       "    <tr>\n",
       "      <th>3</th>\n",
       "      <td>ffffac55ee02a49d1abc87ba6fc61135</td>\n",
       "      <td>2011-11-03 23:54:01.109</td>\n",
       "      <td>2011-06-11</td>\n",
       "      <td>t</td>\n",
       "      <td>f</td>\n",
       "      <td>145</td>\n",
       "    </tr>\n",
       "    <tr>\n",
       "      <th>4</th>\n",
       "      <td>ffffac55ee02a49d1abc87ba6fc61135</td>\n",
       "      <td>2011-11-02 23:21:00.043</td>\n",
       "      <td>2011-06-11</td>\n",
       "      <td>t</td>\n",
       "      <td>f</td>\n",
       "      <td>144</td>\n",
       "    </tr>\n",
       "  </tbody>\n",
       "</table>\n",
       "</div>"
      ],
      "text/plain": [
       "                          projectid       donation_timestamp date_posted  \\\n",
       "0  ffffac55ee02a49d1abc87ba6fc61135  2011-08-25 14:27:34.807  2011-06-11   \n",
       "1  ffffac55ee02a49d1abc87ba6fc61135  2011-11-04 07:54:21.552  2011-06-11   \n",
       "2  ffffac55ee02a49d1abc87ba6fc61135  2011-11-02 22:53:53.019  2011-06-11   \n",
       "3  ffffac55ee02a49d1abc87ba6fc61135  2011-11-03 23:54:01.109  2011-06-11   \n",
       "4  ffffac55ee02a49d1abc87ba6fc61135  2011-11-02 23:21:00.043  2011-06-11   \n",
       "\n",
       "  fully_funded is_exciting  days  \n",
       "0            t           f    75  \n",
       "1            t           f   146  \n",
       "2            t           f   144  \n",
       "3            t           f   145  \n",
       "4            t           f   144  "
      ]
     },
     "execution_count": 59,
     "metadata": {},
     "output_type": "execute_result"
    }
   ],
   "source": [
    "funded_time=funded_time.drop(['to'], axis=1)\n",
    "funded_time=funded_time.drop(['fr'], axis=1)\n",
    "funded_time=funded_time.drop(['diff'], axis=1)\n",
    "funded_time.head()"
   ]
  },
  {
   "cell_type": "code",
   "execution_count": 61,
   "metadata": {
    "collapsed": false
   },
   "outputs": [
    {
     "data": {
      "text/html": [
       "<div>\n",
       "<table border=\"1\" class=\"dataframe\">\n",
       "  <thead>\n",
       "    <tr style=\"text-align: right;\">\n",
       "      <th></th>\n",
       "      <th></th>\n",
       "      <th>mean</th>\n",
       "      <th>count</th>\n",
       "    </tr>\n",
       "    <tr>\n",
       "      <th>fully_funded</th>\n",
       "      <th>is_exciting</th>\n",
       "      <th></th>\n",
       "      <th></th>\n",
       "    </tr>\n",
       "  </thead>\n",
       "  <tbody>\n",
       "    <tr>\n",
       "      <th>f</th>\n",
       "      <th>f</th>\n",
       "      <td>61.980284</td>\n",
       "      <td>284748</td>\n",
       "    </tr>\n",
       "    <tr>\n",
       "      <th rowspan=\"2\" valign=\"top\">t</th>\n",
       "      <th>f</th>\n",
       "      <td>35.273695</td>\n",
       "      <td>2370884</td>\n",
       "    </tr>\n",
       "    <tr>\n",
       "      <th>t</th>\n",
       "      <td>32.634078</td>\n",
       "      <td>442357</td>\n",
       "    </tr>\n",
       "  </tbody>\n",
       "</table>\n",
       "</div>"
      ],
      "text/plain": [
       "                               mean    count\n",
       "fully_funded is_exciting                    \n",
       "f            f            61.980284   284748\n",
       "t            f            35.273695  2370884\n",
       "             t            32.634078   442357"
      ]
     },
     "execution_count": 61,
     "metadata": {},
     "output_type": "execute_result"
    }
   ],
   "source": [
    "funded_time.groupby(['fully_funded','is_exciting']).days.agg(['mean', 'count'])"
   ]
  },
  {
   "cell_type": "markdown",
   "metadata": {},
   "source": [
    "### Interesting fact 3: \n",
    "#### 1) Average time of from posting to funding is 34.9 days\n",
    "#### 2) It probably doesn't matter how exciting a project is to get funded"
   ]
  },
  {
   "cell_type": "markdown",
   "metadata": {},
   "source": [
    "\n"
   ]
  },
  {
   "cell_type": "markdown",
   "metadata": {},
   "source": [
    "### Teacher VS Posting"
   ]
  },
  {
   "cell_type": "code",
   "execution_count": 46,
   "metadata": {
    "collapsed": false
   },
   "outputs": [
    {
     "name": "stdout",
     "output_type": "stream",
     "text": [
      "664098 projects are posted.\n",
      "By 249555 teachers.\n",
      "The average number of postings per teacher would be 2.66112880928\n"
     ]
    }
   ],
   "source": [
    "posted_poject_num = len(df2)\n",
    "teacher_num = len(df2['teacher_acctid'].unique())\n",
    "average = len(df2['projectid'].unique())/len(df2['teacher_acctid'].unique())\n",
    "\n",
    "print posted_poject_num, \"projects are posted.\"\n",
    "print \"By\", teacher_num, \"teachers.\"\n",
    "print \"The average number of postings per teacher would be\", average"
   ]
  },
  {
   "cell_type": "code",
   "execution_count": 47,
   "metadata": {
    "collapsed": true
   },
   "outputs": [],
   "source": [
    "dominant = df2.groupby('teacher_acctid').size().reset_index(name=\"project_number\")\n",
    "dominant_teacher = dominant.groupby('project_number').size().reset_index(name=\"teacher_number\")"
   ]
  },
  {
   "cell_type": "code",
   "execution_count": 48,
   "metadata": {
    "collapsed": false
   },
   "outputs": [
    {
     "data": {
      "text/html": [
       "<div>\n",
       "<table border=\"1\" class=\"dataframe\">\n",
       "  <thead>\n",
       "    <tr style=\"text-align: right;\">\n",
       "      <th></th>\n",
       "      <th>project_number</th>\n",
       "      <th>teacher_number</th>\n",
       "    </tr>\n",
       "  </thead>\n",
       "  <tbody>\n",
       "    <tr>\n",
       "      <th>149</th>\n",
       "      <td>212</td>\n",
       "      <td>1</td>\n",
       "    </tr>\n",
       "    <tr>\n",
       "      <th>150</th>\n",
       "      <td>216</td>\n",
       "      <td>1</td>\n",
       "    </tr>\n",
       "    <tr>\n",
       "      <th>151</th>\n",
       "      <td>232</td>\n",
       "      <td>1</td>\n",
       "    </tr>\n",
       "    <tr>\n",
       "      <th>152</th>\n",
       "      <td>237</td>\n",
       "      <td>1</td>\n",
       "    </tr>\n",
       "    <tr>\n",
       "      <th>153</th>\n",
       "      <td>266</td>\n",
       "      <td>1</td>\n",
       "    </tr>\n",
       "  </tbody>\n",
       "</table>\n",
       "</div>"
      ],
      "text/plain": [
       "     project_number  teacher_number\n",
       "149             212               1\n",
       "150             216               1\n",
       "151             232               1\n",
       "152             237               1\n",
       "153             266               1"
      ]
     },
     "execution_count": 48,
     "metadata": {},
     "output_type": "execute_result"
    }
   ],
   "source": [
    "dominant_teacher.tail(5)"
   ]
  },
  {
   "cell_type": "code",
   "execution_count": 49,
   "metadata": {
    "collapsed": false
   },
   "outputs": [
    {
     "data": {
      "text/html": [
       "<div>\n",
       "<table border=\"1\" class=\"dataframe\">\n",
       "  <thead>\n",
       "    <tr style=\"text-align: right;\">\n",
       "      <th></th>\n",
       "      <th>project_number</th>\n",
       "      <th>teacher_number</th>\n",
       "    </tr>\n",
       "  </thead>\n",
       "  <tbody>\n",
       "    <tr>\n",
       "      <th>0</th>\n",
       "      <td>1</td>\n",
       "      <td>141117</td>\n",
       "    </tr>\n",
       "    <tr>\n",
       "      <th>1</th>\n",
       "      <td>2</td>\n",
       "      <td>47549</td>\n",
       "    </tr>\n",
       "    <tr>\n",
       "      <th>2</th>\n",
       "      <td>3</td>\n",
       "      <td>21883</td>\n",
       "    </tr>\n",
       "    <tr>\n",
       "      <th>3</th>\n",
       "      <td>4</td>\n",
       "      <td>11450</td>\n",
       "    </tr>\n",
       "    <tr>\n",
       "      <th>4</th>\n",
       "      <td>5</td>\n",
       "      <td>6780</td>\n",
       "    </tr>\n",
       "  </tbody>\n",
       "</table>\n",
       "</div>"
      ],
      "text/plain": [
       "   project_number  teacher_number\n",
       "0               1          141117\n",
       "1               2           47549\n",
       "2               3           21883\n",
       "3               4           11450\n",
       "4               5            6780"
      ]
     },
     "execution_count": 49,
     "metadata": {},
     "output_type": "execute_result"
    }
   ],
   "source": [
    "dominant_teacher.head(5)"
   ]
  },
  {
   "cell_type": "markdown",
   "metadata": {},
   "source": [
    "### Interesting fact 4: \n",
    "#### 1) some teachers posted more than 200 projects while 57% of teachers posted only ONE project!\n",
    "#### 2) The average number of postings per teacher is 2.67"
   ]
  },
  {
   "cell_type": "code",
   "execution_count": 62,
   "metadata": {
    "collapsed": false
   },
   "outputs": [
    {
     "data": {
      "text/plain": [
       "<matplotlib.axes.AxesSubplot at 0x117726990>"
      ]
     },
     "execution_count": 62,
     "metadata": {},
     "output_type": "execute_result"
    },
    {
     "data": {
      "image/png": "[encoded data removed]",
      "text/plain": [
       "<matplotlib.figure.Figure at 0x12dd60c90>"
      ]
     },
     "metadata": {},
     "output_type": "display_data"
    }
   ],
   "source": [
    "sns.set(color_codes=True)\n",
    "sns.regplot(x='project_number', y='teacher_number', data=dominant_teacher, color=\"g\", marker=\"+\")"
   ]
  },
  {
   "cell_type": "markdown",
   "metadata": {},
   "source": [
    "### How far between Projects and Donors "
   ]
  },
  {
   "cell_type": "code",
   "execution_count": 64,
   "metadata": {
    "collapsed": true
   },
   "outputs": [],
   "source": [
    "zipcode = merge1[['projectid','donor_zip', 'school_zip']].copy()"
   ]
  },
  {
   "cell_type": "code",
   "execution_count": 65,
   "metadata": {
    "collapsed": true
   },
   "outputs": [],
   "source": [
    "same_zipcode = len(zipcode[zipcode.donor_zip == zipcode.school_zip]['projectid'].unique())"
   ]
  },
  {
   "cell_type": "code",
   "execution_count": 95,
   "metadata": {
    "collapsed": false
   },
   "outputs": [
    {
     "name": "stdout",
     "output_type": "stream",
     "text": [
      "0.121316009005 % of donors live in the same zip code as projects that they funded.\n"
     ]
    }
   ],
   "source": [
    "print same_zipcode/project_funded, \"% of donors live in the same zip code as projects that they funded.\""
   ]
  },
  {
   "cell_type": "markdown",
   "metadata": {},
   "source": [
    "#### Zip code doesn't matter. Only 12% of donors live in the same zip code as projects that they funded."
   ]
  },
  {
   "cell_type": "markdown",
   "metadata": {},
   "source": [
    "### Traditional Public schools VS Charter schools"
   ]
  },
  {
   "cell_type": "code",
   "execution_count": 78,
   "metadata": {
    "collapsed": true
   },
   "outputs": [],
   "source": [
    "schools = merge1[['projectid','school_charter','school_magnet','school_year_round','school_nlns',\n",
    "                   'school_kipp','school_charter_ready_promise','is_exciting','fully_funded']].copy()"
   ]
  },
  {
   "cell_type": "code",
   "execution_count": 79,
   "metadata": {
    "collapsed": false
   },
   "outputs": [],
   "source": [
    "traditional=schools[(schools['school_charter']==\"f\")&(schools['school_magnet']==\"f\")&\n",
    "    (schools['school_year_round']==\"f\")&(schools['school_nlns']==\"f\")&\n",
    "    (schools['school_kipp']==\"f\")&(schools['school_charter_ready_promise']==\"f\")]"
   ]
  },
  {
   "cell_type": "code",
   "execution_count": 80,
   "metadata": {
    "collapsed": true
   },
   "outputs": [],
   "source": [
    "charter=schools[(schools['school_charter']==\"t\")|(schools['school_magnet']==\"t\")|\n",
    "    (schools['school_year_round']==\"t\")|(schools['school_nlns']==\"t\")|\n",
    "    (schools['school_kipp']==\"t\")|(schools['school_charter_ready_promise']==\"t\")]"
   ]
  },
  {
   "cell_type": "code",
   "execution_count": 82,
   "metadata": {
    "collapsed": false
   },
   "outputs": [
    {
     "data": {
      "text/plain": [
       "t    2084569\n",
       "f     222455\n",
       "Name: fully_funded, dtype: int64"
      ]
     },
     "execution_count": 82,
     "metadata": {},
     "output_type": "execute_result"
    }
   ],
   "source": [
    "traditional['fully_funded'].value_counts()"
   ]
  },
  {
   "cell_type": "code",
   "execution_count": 83,
   "metadata": {
    "collapsed": false
   },
   "outputs": [
    {
     "data": {
      "text/plain": [
       "t    728672\n",
       "f     62293\n",
       "Name: fully_funded, dtype: int64"
      ]
     },
     "execution_count": 83,
     "metadata": {},
     "output_type": "execute_result"
    }
   ],
   "source": [
    "charter['fully_funded'].value_counts()"
   ]
  },
  {
   "cell_type": "code",
   "execution_count": 88,
   "metadata": {
    "collapsed": false
   },
   "outputs": [
    {
     "name": "stdout",
     "output_type": "stream",
     "text": [
      "Total projects: 525042\n",
      "From Traditional public schools: 401827\n",
      "From Charter schools: 123215\n"
     ]
    }
   ],
   "source": [
    "print \"Total projects:\", project_funded\n",
    "print \"From Traditional public schools:\", len(traditional['projectid'].unique())\n",
    "print \"From Charter schools:\", len(charter['projectid'].unique())"
   ]
  },
  {
   "cell_type": "code",
   "execution_count": 91,
   "metadata": {
    "collapsed": false
   },
   "outputs": [
    {
     "data": {
      "text/plain": [
       "f    0.861076\n",
       "t    0.138924\n",
       "Name: is_exciting, dtype: float64"
      ]
     },
     "execution_count": 91,
     "metadata": {},
     "output_type": "execute_result"
    }
   ],
   "source": [
    "traditional['is_exciting'].value_counts(normalize=True)"
   ]
  },
  {
   "cell_type": "code",
   "execution_count": 92,
   "metadata": {
    "collapsed": false
   },
   "outputs": [
    {
     "data": {
      "text/plain": [
       "f    0.84594\n",
       "t    0.15406\n",
       "Name: is_exciting, dtype: float64"
      ]
     },
     "execution_count": 92,
     "metadata": {},
     "output_type": "execute_result"
    }
   ],
   "source": [
    "charter['is_exciting'].value_counts(normalize=True)"
   ]
  },
  {
   "cell_type": "code",
   "execution_count": 93,
   "metadata": {
    "collapsed": false
   },
   "outputs": [
    {
     "name": "stdout",
     "output_type": "stream",
     "text": [
      "% of interesting projects at Traditional public schools: 0.13892\n",
      "% of interesting projects at Chater schools:             0.15406\n"
     ]
    }
   ],
   "source": [
    "print \"% of interesting projects at Traditional public schools: 0.13892\"\n",
    "print \"% of interesting projects at Chater schools:             0.15406\""
   ]
  },
  {
   "cell_type": "markdown",
   "metadata": {},
   "source": [
    "#### School type doest't matter to get funded\n",
    "1) 401,827 projects from traditional public schools.\n",
    "\n",
    "2) 123,215 projects from charter-ish schools.\n",
    "\n",
    "3) 81.3% of traditional public school projects are fully funded.\n",
    "\n",
    "4) 83.9% of charter school projects are fully funded.\n"
   ]
  },
  {
   "cell_type": "markdown",
   "metadata": {},
   "source": [
    "# Questions for the Project Partner"
   ]
  },
  {
   "cell_type": "markdown",
   "metadata": {},
   "source": [
    "#### Relationship between donors and schools that he/she supports \n",
    "    1) Do donors have their own (grand)child(ren) at the school?\n",
    "    2) Are donors and teachers family or friends?\n",
    "    3) Are donors alumni of the school?"
   ]
  },
  {
   "cell_type": "markdown",
   "metadata": {},
   "source": [
    "# MODELING"
   ]
  },
  {
   "cell_type": "markdown",
   "metadata": {},
   "source": [
    "## Data preparation"
   ]
  },
  {
   "cell_type": "code",
   "execution_count": 97,
   "metadata": {
    "collapsed": false
   },
   "outputs": [],
   "source": [
    "merge1['date_posted']= pd.to_datetime(merge1['date_posted'])"
   ]
  },
  {
   "cell_type": "code",
   "execution_count": 192,
   "metadata": {
    "collapsed": true
   },
   "outputs": [],
   "source": [
    "tmp = merge1.loc[merge1['date_posted'].dt.year==2013]"
   ]
  },
  {
   "cell_type": "code",
   "execution_count": 193,
   "metadata": {
    "collapsed": false
   },
   "outputs": [
    {
     "data": {
      "text/plain": [
       "802970"
      ]
     },
     "execution_count": 193,
     "metadata": {},
     "output_type": "execute_result"
    }
   ],
   "source": [
    "len(tmp)"
   ]
  },
  {
   "cell_type": "code",
   "execution_count": 157,
   "metadata": {
    "collapsed": true
   },
   "outputs": [],
   "source": [
    "# Randomly sample 10% of 2013 dataframe\n",
    "#sample_10 = sample.sample(frac=0.1)\n",
    "#sample_20 = sample.sample(frac=0.2)\n",
    "#sample_30 = sample.sample(frac=0.3)"
   ]
  },
  {
   "cell_type": "code",
   "execution_count": 194,
   "metadata": {
    "collapsed": true
   },
   "outputs": [],
   "source": [
    "# Selct some features\n",
    "sample_features = tmp[['is_teacher_acct','donation_timestamp','school_charter',\n",
    "            'school_magnet','school_year_round','school_nlns', 'school_kipp','school_charter_ready_promise',\n",
    "            'poverty_level','grade_level','date_posted','is_exciting','at_least_1_teacher_referred_donor',\n",
    "            'at_least_1_green_donation','great_chat','three_or_more_non_teacher_referred_donors',\n",
    "            'one_non_teacher_referred_donor_giving_100_plus','donation_from_thoughtful_donor',\n",
    "            'fully_funded']].copy()"
   ]
  },
  {
   "cell_type": "code",
   "execution_count": 195,
   "metadata": {
    "collapsed": true
   },
   "outputs": [],
   "source": [
    "# Prediction Target: fully_funded\n",
    "sample_features['fully_funded'] = sample_features['fully_funded'].map({'t': 1, 'f': 0})\n",
    "\n",
    "# Month\n",
    "sample_features['donation_timestamp'] = pd.to_datetime(sample_features['donation_timestamp'])\n",
    "sample_features['date_posted'] = pd.to_datetime(sample_features['date_posted'])\n",
    "sample_features['posted_month'] = sample_features['date_posted'].dt.month\n",
    "sample_features['funded_month'] = sample_features['donation_timestamp'].dt.month\n",
    "\n",
    "# Structured Features\n",
    "sample_features['is_exciting'] = sample_features['is_exciting'].map({'t': 1, 'f': 0})\n",
    "sample_features['at_least_1_teacher_referred_donor'] = sample_features['at_least_1_teacher_referred_donor'].map({'t': 1, 'f': 0})\n",
    "sample_features['at_least_1_green_donation'] = sample_features['at_least_1_green_donation'].map({'t': 1, 'f': 0})\n",
    "sample_features['great_chat'] = sample_features['great_chat'].map({'t': 1, 'f': 0})\n",
    "sample_features['three_or_more_non_teacher_referred_donors'] = sample_features['three_or_more_non_teacher_referred_donors'].map({'t': 1, 'f': 0})\n",
    "sample_features['one_non_teacher_referred_donor_giving_100_plus'] = sample_features['one_non_teacher_referred_donor_giving_100_plus'].map({'t': 1, 'f': 0})\n",
    "sample_features['donation_from_thoughtful_donor'] = sample_features['donation_from_thoughtful_donor'].map({'t': 1, 'f': 0})\n",
    "\n",
    "# Grade Level\n",
    "sample_features['grade_level'].replace('nan',0, inplace=True)\n",
    "sample_features['grade_level'].replace('Grades PreK-2',1, inplace=True)\n",
    "sample_features['grade_level'].replace('Grades 3-5',2, inplace=True)\n",
    "sample_features['grade_level'].replace('Grades 6-8',3, inplace=True)\n",
    "sample_features['grade_level'].replace('Grades 9-12',4, inplace=True)\n",
    "\n",
    "# Poverty Level\n",
    "sample_features['poverty_level'].replace('low poverty',0, inplace=True)\n",
    "sample_features['poverty_level'].replace('moderate poverty',1, inplace=True)\n",
    "sample_features['poverty_level'].replace('high poverty',2, inplace=True)\n",
    "sample_features['poverty_level'].replace('highest poverty',3, inplace=True)\n",
    "\n",
    "# School Type\n",
    "sample_features['school_charter'] = sample_features['school_charter'].map({'t': 1, 'f': 0})\n",
    "sample_features['school_magnet'] = sample_features['school_magnet'].map({'t': 1, 'f': 0})\n",
    "sample_features['school_year_round'] = sample_features['school_year_round'].map({'t': 1, 'f': 0})\n",
    "sample_features['school_nlns'] = sample_features['school_nlns'].map({'t': 1, 'f': 0})\n",
    "sample_features['school_kipp'] = sample_features['school_kipp'].map({'t': 1, 'f': 0})\n",
    "sample_features['school_charter_ready_promise'] = sample_features['school_charter_ready_promise'].map({'t': 1, 'f': 0})\n",
    "\n",
    "# Teacher Account\n",
    "sample_features['is_teacher_acct'] = sample_features['is_teacher_acct'].map({'t': 1, 'f': 0})"
   ]
  },
  {
   "cell_type": "code",
   "execution_count": 196,
   "metadata": {
    "collapsed": true
   },
   "outputs": [],
   "source": [
    "# Drop data columns\n",
    "sample_features=sample_features.drop(['donation_timestamp'], axis=1)\n",
    "sample_features=sample_features.drop(['date_posted'], axis=1)"
   ]
  },
  {
   "cell_type": "code",
   "execution_count": 197,
   "metadata": {
    "collapsed": false
   },
   "outputs": [
    {
     "data": {
      "text/html": [
       "<div>\n",
       "<table border=\"1\" class=\"dataframe\">\n",
       "  <thead>\n",
       "    <tr style=\"text-align: right;\">\n",
       "      <th></th>\n",
       "      <th>is_teacher_acct</th>\n",
       "      <th>school_charter</th>\n",
       "      <th>school_magnet</th>\n",
       "      <th>school_year_round</th>\n",
       "      <th>school_nlns</th>\n",
       "      <th>school_kipp</th>\n",
       "      <th>school_charter_ready_promise</th>\n",
       "      <th>poverty_level</th>\n",
       "      <th>grade_level</th>\n",
       "      <th>is_exciting</th>\n",
       "      <th>at_least_1_teacher_referred_donor</th>\n",
       "      <th>at_least_1_green_donation</th>\n",
       "      <th>great_chat</th>\n",
       "      <th>three_or_more_non_teacher_referred_donors</th>\n",
       "      <th>one_non_teacher_referred_donor_giving_100_plus</th>\n",
       "      <th>donation_from_thoughtful_donor</th>\n",
       "      <th>fully_funded</th>\n",
       "      <th>posted_month</th>\n",
       "      <th>funded_month</th>\n",
       "    </tr>\n",
       "  </thead>\n",
       "  <tbody>\n",
       "    <tr>\n",
       "      <th>12</th>\n",
       "      <td>0</td>\n",
       "      <td>0</td>\n",
       "      <td>0</td>\n",
       "      <td>0</td>\n",
       "      <td>0</td>\n",
       "      <td>0</td>\n",
       "      <td>0</td>\n",
       "      <td>2</td>\n",
       "      <td>2</td>\n",
       "      <td>1</td>\n",
       "      <td>1</td>\n",
       "      <td>1</td>\n",
       "      <td>1</td>\n",
       "      <td>0</td>\n",
       "      <td>1</td>\n",
       "      <td>0</td>\n",
       "      <td>1</td>\n",
       "      <td>3</td>\n",
       "      <td>5</td>\n",
       "    </tr>\n",
       "    <tr>\n",
       "      <th>13</th>\n",
       "      <td>0</td>\n",
       "      <td>0</td>\n",
       "      <td>0</td>\n",
       "      <td>0</td>\n",
       "      <td>0</td>\n",
       "      <td>0</td>\n",
       "      <td>0</td>\n",
       "      <td>2</td>\n",
       "      <td>2</td>\n",
       "      <td>1</td>\n",
       "      <td>1</td>\n",
       "      <td>1</td>\n",
       "      <td>1</td>\n",
       "      <td>0</td>\n",
       "      <td>1</td>\n",
       "      <td>0</td>\n",
       "      <td>1</td>\n",
       "      <td>3</td>\n",
       "      <td>3</td>\n",
       "    </tr>\n",
       "    <tr>\n",
       "      <th>14</th>\n",
       "      <td>0</td>\n",
       "      <td>0</td>\n",
       "      <td>0</td>\n",
       "      <td>0</td>\n",
       "      <td>0</td>\n",
       "      <td>0</td>\n",
       "      <td>0</td>\n",
       "      <td>2</td>\n",
       "      <td>2</td>\n",
       "      <td>1</td>\n",
       "      <td>1</td>\n",
       "      <td>1</td>\n",
       "      <td>1</td>\n",
       "      <td>0</td>\n",
       "      <td>1</td>\n",
       "      <td>0</td>\n",
       "      <td>1</td>\n",
       "      <td>3</td>\n",
       "      <td>3</td>\n",
       "    </tr>\n",
       "    <tr>\n",
       "      <th>15</th>\n",
       "      <td>0</td>\n",
       "      <td>0</td>\n",
       "      <td>0</td>\n",
       "      <td>0</td>\n",
       "      <td>0</td>\n",
       "      <td>0</td>\n",
       "      <td>0</td>\n",
       "      <td>2</td>\n",
       "      <td>2</td>\n",
       "      <td>1</td>\n",
       "      <td>1</td>\n",
       "      <td>1</td>\n",
       "      <td>1</td>\n",
       "      <td>0</td>\n",
       "      <td>1</td>\n",
       "      <td>0</td>\n",
       "      <td>1</td>\n",
       "      <td>3</td>\n",
       "      <td>5</td>\n",
       "    </tr>\n",
       "    <tr>\n",
       "      <th>16</th>\n",
       "      <td>0</td>\n",
       "      <td>0</td>\n",
       "      <td>0</td>\n",
       "      <td>0</td>\n",
       "      <td>0</td>\n",
       "      <td>0</td>\n",
       "      <td>0</td>\n",
       "      <td>2</td>\n",
       "      <td>2</td>\n",
       "      <td>1</td>\n",
       "      <td>1</td>\n",
       "      <td>1</td>\n",
       "      <td>1</td>\n",
       "      <td>0</td>\n",
       "      <td>1</td>\n",
       "      <td>0</td>\n",
       "      <td>1</td>\n",
       "      <td>3</td>\n",
       "      <td>5</td>\n",
       "    </tr>\n",
       "  </tbody>\n",
       "</table>\n",
       "</div>"
      ],
      "text/plain": [
       "    is_teacher_acct  school_charter  school_magnet  school_year_round  \\\n",
       "12                0               0              0                  0   \n",
       "13                0               0              0                  0   \n",
       "14                0               0              0                  0   \n",
       "15                0               0              0                  0   \n",
       "16                0               0              0                  0   \n",
       "\n",
       "    school_nlns  school_kipp  school_charter_ready_promise  poverty_level  \\\n",
       "12            0            0                             0              2   \n",
       "13            0            0                             0              2   \n",
       "14            0            0                             0              2   \n",
       "15            0            0                             0              2   \n",
       "16            0            0                             0              2   \n",
       "\n",
       "    grade_level  is_exciting  at_least_1_teacher_referred_donor  \\\n",
       "12            2            1                                  1   \n",
       "13            2            1                                  1   \n",
       "14            2            1                                  1   \n",
       "15            2            1                                  1   \n",
       "16            2            1                                  1   \n",
       "\n",
       "    at_least_1_green_donation  great_chat  \\\n",
       "12                          1           1   \n",
       "13                          1           1   \n",
       "14                          1           1   \n",
       "15                          1           1   \n",
       "16                          1           1   \n",
       "\n",
       "    three_or_more_non_teacher_referred_donors  \\\n",
       "12                                          0   \n",
       "13                                          0   \n",
       "14                                          0   \n",
       "15                                          0   \n",
       "16                                          0   \n",
       "\n",
       "    one_non_teacher_referred_donor_giving_100_plus  \\\n",
       "12                                               1   \n",
       "13                                               1   \n",
       "14                                               1   \n",
       "15                                               1   \n",
       "16                                               1   \n",
       "\n",
       "    donation_from_thoughtful_donor  fully_funded  posted_month  funded_month  \n",
       "12                               0             1             3             5  \n",
       "13                               0             1             3             3  \n",
       "14                               0             1             3             3  \n",
       "15                               0             1             3             5  \n",
       "16                               0             1             3             5  "
      ]
     },
     "execution_count": 197,
     "metadata": {},
     "output_type": "execute_result"
    }
   ],
   "source": [
    "sample_features.head()"
   ]
  },
  {
   "cell_type": "markdown",
   "metadata": {},
   "source": [
    "## Data split into training and validation"
   ]
  },
  {
   "cell_type": "code",
   "execution_count": 198,
   "metadata": {
    "collapsed": true
   },
   "outputs": [],
   "source": [
    "# Target to predict\n",
    "colsToDrop = ['fully_funded']"
   ]
  },
  {
   "cell_type": "code",
   "execution_count": 199,
   "metadata": {
    "collapsed": false
   },
   "outputs": [],
   "source": [
    "Y = sample_features['fully_funded']\n",
    "X = sample_features.drop(colsToDrop, axis=1)\n",
    "\n",
    "rows = random.sample(sample_features.index, int(len(sample_features)*.80))\n",
    "\n",
    "x_train, y_train = X.ix[rows],Y.ix[rows]\n",
    "x_test,y_test  = X.drop(rows),Y.drop(rows)"
   ]
  },
  {
   "cell_type": "markdown",
   "metadata": {},
   "source": [
    "## Gradient Tree Boosting Model"
   ]
  },
  {
   "cell_type": "code",
   "execution_count": 200,
   "metadata": {
    "collapsed": true
   },
   "outputs": [],
   "source": [
    "params = {'n_estimators': 500, 'max_depth': 6,\n",
    "        'learning_rate': 0.1, 'loss': 'huber','alpha':0.95}"
   ]
  },
  {
   "cell_type": "code",
   "execution_count": 201,
   "metadata": {
    "collapsed": false
   },
   "outputs": [],
   "source": [
    "model = GradientBoostingRegressor(**params).fit(x_train, y_train)"
   ]
  },
  {
   "cell_type": "code",
   "execution_count": 202,
   "metadata": {
    "collapsed": false
   },
   "outputs": [
    {
     "name": "stdout",
     "output_type": "stream",
     "text": [
      "MSE: 0.0469\n",
      "R2: 0.4627\n"
     ]
    }
   ],
   "source": [
    "mse = mean_squared_error(y_test, model.predict(x_test))\n",
    "r2 = r2_score(y_test, model.predict(x_test))\n",
    "\n",
    "print(\"MSE: %.4f\" % mse)\n",
    "print(\"R2: %.4f\" % r2)"
   ]
  },
  {
   "cell_type": "code",
   "execution_count": 203,
   "metadata": {
    "collapsed": false
   },
   "outputs": [],
   "source": [
    "feature_importance = model.feature_importances_\n",
    "feature_importance = 100.0 * (feature_importance / feature_importance.max())\n",
    "sorted_idx = np.argsort(feature_importance)\n",
    "pos = np.arange(sorted_idx.shape[0]) + .5"
   ]
  },
  {
   "cell_type": "code",
   "execution_count": 204,
   "metadata": {
    "collapsed": false
   },
   "outputs": [
    {
     "data": {
      "image/png": "[encoded data removed]",
      "text/plain": [
       "<matplotlib.figure.Figure at 0x14632f4d0>"
      ]
     },
     "metadata": {},
     "output_type": "display_data"
    }
   ],
   "source": [
    "plt.figure(figsize=(12, 6))\n",
    "plt.subplot(1, 1, 1)\n",
    "plt.barh(pos, feature_importance[sorted_idx], align='center')\n",
    "plt.yticks(pos, X.columns[sorted_idx])\n",
    "plt.xlabel('Relative Importance')\n",
    "plt.title('Variable Importance')\n",
    "plt.show()"
   ]
  }
 ],
 "metadata": {
  "kernelspec": {
   "display_name": "Python 2",
   "language": "python",
   "name": "python2"
  },
  "language_info": {
   "codemirror_mode": {
    "name": "ipython",
    "version": 2
   },
   "file_extension": ".py",
   "mimetype": "text/x-python",
   "name": "python",
   "nbconvert_exporter": "python",
   "pygments_lexer": "ipython2",
   "version": "2.7.10"
  }
 },
 "nbformat": 4,
 "nbformat_minor": 1
}
